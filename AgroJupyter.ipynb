{
  "nbformat": 4,
  "nbformat_minor": 0,
  "metadata": {
    "colab": {
      "provenance": []
    },
    "kernelspec": {
      "name": "python3",
      "display_name": "Python 3"
    },
    "language_info": {
      "name": "python"
    }
  },
  "cells": [
    {
      "cell_type": "code",
      "execution_count": 8,
      "metadata": {
        "colab": {
          "base_uri": "https://localhost:8080/"
        },
        "id": "Y7Y3fh1HkF9J",
        "outputId": "efdec650-cc86-4353-cb82-ccc57c06b4a4"
      },
      "outputs": [
        {
          "output_type": "stream",
          "name": "stdout",
          "text": [
            "Overwriting agro.l\n"
          ]
        }
      ],
      "source": [
        "%%writefile agro.l\n",
        "%{\n",
        "#include <stdio.h>\n",
        "#include \"parser.tab.h\"\n",
        "%}\n",
        "\n",
        "digit           [0-9]\n",
        "number          {digit}+\n",
        "letter          [A-Za-z]\n",
        "identifier      {letter}({letter}|{digit}|_)*\n",
        "whitespace      [ \\t\\n]+\n",
        "\n",
        "%%\n",
        "\n",
        "\"se\"            { printf(\"SE\\n\"); return SE; }\n",
        "\"entao\"         { printf(\"ENTAO\\n\"); return ENTAO; }\n",
        "\"senao\"         { printf(\"SENAO\\n\"); return SENAO; }\n",
        "\"enquanto\"      { printf(\"ENQUANTO\\n\"); return ENQUANTO; }\n",
        "\"comecar\"       { printf(\"COMECAR\\n\"); return COMECAR; }\n",
        "\"terminar\"      { printf(\"TERMINAR\\n\"); return TERMINAR; }\n",
        "\"plantar\"       { printf(\"PLANTAR\\n\"); return PLANTAR; }\n",
        "\"colher\"        { printf(\"COLHER\\n\"); return COLHER; }\n",
        "\"registrar\"     { printf(\"REGISTRAR\\n\"); return REGISTRAR; }\n",
        "\"vacinar\"       { printf(\"VACINAR\\n\"); return VACINAR; }\n",
        "\"em\"            { printf(\"EM\\n\"); return EM; }\n",
        "\"gado\"          { printf(\"GADO\\n\"); return GADO; }\n",
        "\"ovelha\"        { printf(\"OVELHA\\n\"); return OVELHA; }\n",
        "\"porco\"         { printf(\"PORCO\\n\"); return PORCO; }\n",
        "\"galinha\"       { printf(\"GALINHA\\n\"); return GALINHA; }\n",
        "{number}        { printf(\"NUMERO: %s\\n\", yytext); return NUMERO; }\n",
        "{identifier}    { printf(\"IDENTIFICADOR: %s\\n\", yytext); return IDENTIFICADOR; }\n",
        "\"+\"             { printf(\"MAIS\\n\"); return MAIS; }\n",
        "\"-\"             { printf(\"MENOS\\n\"); return MENOS; }\n",
        "\"*\"             { printf(\"MULTIPLICAR\\n\"); return MULTIPLICAR; }\n",
        "\"/\"             { printf(\"DIVIDIR\\n\"); return DIVIDIR; }\n",
        "\"=\"             { printf(\"IGUAL\\n\"); return IGUAL; }\n",
        "\";\"             { printf(\"PONTO_E_VIRGULA\\n\"); return PONTO_E_VIRGULA; }\n",
        "\"(\"             { printf(\"ABRE_PARENTESES\\n\"); return ABRE_PARENTESES; }\n",
        "\")\"             { printf(\"FECHA_PARENTESES\\n\"); return FECHA_PARENTESES; }\n",
        "{whitespace}    { /* ignora espaços em branco */ }\n",
        ".               { printf(\"Caractere inesperado: %c\\n\", yytext[0]); }\n",
        "\n",
        "%%"
      ]
    },
    {
      "cell_type": "code",
      "source": [
        "%%writefile parser.y\n",
        "%{\n",
        "#include <stdio.h>\n",
        "#include <stdlib.h>\n",
        "extern int yylex();\n",
        "extern int yylineno;\n",
        "void yyerror(const char *s);\n",
        "%}\n",
        "\n",
        "%token NUMERO IDENTIFICADOR SE ENTAO SENAO ENQUANTO COMECAR TERMINAR\n",
        "%token MAIS MENOS MULTIPLICAR DIVIDIR IGUAL PONTO_E_VIRGULA\n",
        "%token ABRE_PARENTESES FECHA_PARENTESES\n",
        "%token PLANTAR COLHER REGISTRAR VACINAR EM\n",
        "%token GADO OVELHA PORCO GALINHA\n",
        "\n",
        "%nonassoc MENOR_QUE_SENAO\n",
        "%nonassoc SENAO\n",
        "%%\n",
        "programa:\n",
        "    | programa declaracao PONTO_E_VIRGULA\n",
        "    ;\n",
        "\n",
        "declaracao:\n",
        "      atribuicao\n",
        "    | estrutura_controle\n",
        "    | bloco\n",
        "    | operacao_cultivo\n",
        "    | operacao_pecuaria\n",
        "    ;\n",
        "\n",
        "atribuicao:\n",
        "    IDENTIFICADOR IGUAL expressao\n",
        "    ;\n",
        "\n",
        "expressao:\n",
        "    termo\n",
        "    | expressao MAIS termo\n",
        "    | expressao MENOS termo\n",
        "    ;\n",
        "\n",
        "termo:\n",
        "    fator\n",
        "    | termo MULTIPLICAR fator\n",
        "    | termo DIVIDIR fator\n",
        "    ;\n",
        "\n",
        "fator:\n",
        "    NUMERO\n",
        "    | IDENTIFICADOR\n",
        "    | ABRE_PARENTESES expressao FECHA_PARENTESES\n",
        "    ;\n",
        "\n",
        "estrutura_controle:\n",
        "      estrutura_se\n",
        "    | estrutura_enquanto\n",
        "    ;\n",
        "\n",
        "estrutura_se:\n",
        "    SE ABRE_PARENTESES expressao FECHA_PARENTESES ENTAO declaracao %prec MENOR_QUE_SENAO\n",
        "    | SE ABRE_PARENTESES expressao FECHA_PARENTESES ENTAO declaracao SENAO declaracao\n",
        "    ;\n",
        "\n",
        "estrutura_enquanto:\n",
        "    ENQUANTO ABRE_PARENTESES expressao FECHA_PARENTESES declaracao\n",
        "    ;\n",
        "\n",
        "bloco:\n",
        "    COMECAR programa TERMINAR\n",
        "    ;\n",
        "\n",
        "operacao_cultivo:\n",
        "      PLANTAR IDENTIFICADOR EM NUMERO\n",
        "    | COLHER IDENTIFICADOR\n",
        "    ;\n",
        "\n",
        "operacao_pecuaria:\n",
        "      REGISTRAR IDENTIFICADOR tipo_animal\n",
        "    | VACINAR IDENTIFICADOR EM NUMERO\n",
        "    ;\n",
        "\n",
        "tipo_animal:\n",
        "      GADO\n",
        "    | OVELHA\n",
        "    | PORCO\n",
        "    | GALINHA\n",
        "    ;\n",
        "\n",
        "%%\n",
        "void yyerror(const char *s) {\n",
        "    fprintf(stderr, \"Erro: %s na linha %d\\n\", s, yylineno);\n",
        "}\n",
        "\n",
        "int main(void) {\n",
        "    yyparse();\n",
        "    return 0;\n",
        "}"
      ],
      "metadata": {
        "colab": {
          "base_uri": "https://localhost:8080/"
        },
        "id": "gPyh0FS-n0qt",
        "outputId": "f81a09a6-6c1a-41f3-d7ff-1c34b2c5025b"
      },
      "execution_count": 9,
      "outputs": [
        {
          "output_type": "stream",
          "name": "stdout",
          "text": [
            "Overwriting parser.y\n"
          ]
        }
      ]
    },
    {
      "cell_type": "code",
      "source": [
        "%%writefile agro.txt\n",
        "\n",
        "registrar animal1 gado;\n",
        "plantar milho em 01012023;\n",
        "se (1) entao\n",
        "    vacinar animal1 em 02022023;\n",
        "senao\n",
        "    colher milho;\n",
        "\n",
        "enquanto (1) comecar\n",
        "    plantar trigo em 03032023;\n",
        "terminar\n"
      ],
      "metadata": {
        "colab": {
          "base_uri": "https://localhost:8080/"
        },
        "id": "eDqr-wrwu02_",
        "outputId": "e9a909ae-2dc4-40ae-bf8d-19ad40ef522a"
      },
      "execution_count": 10,
      "outputs": [
        {
          "output_type": "stream",
          "name": "stdout",
          "text": [
            "Overwriting agro.txt\n"
          ]
        }
      ]
    },
    {
      "cell_type": "code",
      "source": [
        "!sudo apt-get install bison"
      ],
      "metadata": {
        "colab": {
          "base_uri": "https://localhost:8080/"
        },
        "id": "_2NRV87-tmOo",
        "outputId": "113b01fe-87d1-40f8-a12e-7bf37c5398c5"
      },
      "execution_count": 15,
      "outputs": [
        {
          "output_type": "stream",
          "name": "stdout",
          "text": [
            "Reading package lists... Done\n",
            "Building dependency tree... Done\n",
            "Reading state information... Done\n",
            "Suggested packages:\n",
            "  bison-doc\n",
            "The following NEW packages will be installed:\n",
            "  bison\n",
            "0 upgraded, 1 newly installed, 0 to remove and 16 not upgraded.\n",
            "Need to get 748 kB of archives.\n",
            "After this operation, 2,519 kB of additional disk space will be used.\n",
            "Get:1 http://archive.ubuntu.com/ubuntu jammy/main amd64 bison amd64 2:3.8.2+dfsg-1build1 [748 kB]\n",
            "Fetched 748 kB in 2s (379 kB/s)\n",
            "debconf: unable to initialize frontend: Dialog\n",
            "debconf: (No usable dialog-like program is installed, so the dialog based frontend cannot be used. at /usr/share/perl5/Debconf/FrontEnd/Dialog.pm line 78, <> line 1.)\n",
            "debconf: falling back to frontend: Readline\n",
            "debconf: unable to initialize frontend: Readline\n",
            "debconf: (This frontend requires a controlling tty.)\n",
            "debconf: falling back to frontend: Teletype\n",
            "dpkg-preconfigure: unable to re-open stdin: \n",
            "Selecting previously unselected package bison.\n",
            "(Reading database ... 120903 files and directories currently installed.)\n",
            "Preparing to unpack .../bison_2%3a3.8.2+dfsg-1build1_amd64.deb ...\n",
            "Unpacking bison (2:3.8.2+dfsg-1build1) ...\n",
            "Setting up bison (2:3.8.2+dfsg-1build1) ...\n",
            "update-alternatives: using /usr/bin/bison.yacc to provide /usr/bin/yacc (yacc) in auto mode\n",
            "Processing triggers for man-db (2.10.2-1) ...\n"
          ]
        }
      ]
    },
    {
      "cell_type": "code",
      "source": [
        "!sudo apt-get install flex"
      ],
      "metadata": {
        "colab": {
          "base_uri": "https://localhost:8080/"
        },
        "id": "1AhXByjwtpWv",
        "outputId": "af832120-882c-4a59-8462-dc6f340f974a"
      },
      "execution_count": 16,
      "outputs": [
        {
          "output_type": "stream",
          "name": "stdout",
          "text": [
            "Reading package lists... Done\n",
            "Building dependency tree... Done\n",
            "Reading state information... Done\n",
            "The following additional packages will be installed:\n",
            "  libfl-dev libfl2\n",
            "Suggested packages:\n",
            "  flex-doc\n",
            "The following NEW packages will be installed:\n",
            "  flex libfl-dev libfl2\n",
            "0 upgraded, 3 newly installed, 0 to remove and 16 not upgraded.\n",
            "Need to get 324 kB of archives.\n",
            "After this operation, 1,148 kB of additional disk space will be used.\n",
            "Get:1 http://archive.ubuntu.com/ubuntu jammy/main amd64 flex amd64 2.6.4-8build2 [307 kB]\n",
            "Get:2 http://archive.ubuntu.com/ubuntu jammy/main amd64 libfl2 amd64 2.6.4-8build2 [10.7 kB]\n",
            "Get:3 http://archive.ubuntu.com/ubuntu jammy/main amd64 libfl-dev amd64 2.6.4-8build2 [6,236 B]\n",
            "Fetched 324 kB in 2s (189 kB/s)\n",
            "debconf: unable to initialize frontend: Dialog\n",
            "debconf: (No usable dialog-like program is installed, so the dialog based frontend cannot be used. at /usr/share/perl5/Debconf/FrontEnd/Dialog.pm line 78, <> line 3.)\n",
            "debconf: falling back to frontend: Readline\n",
            "debconf: unable to initialize frontend: Readline\n",
            "debconf: (This frontend requires a controlling tty.)\n",
            "debconf: falling back to frontend: Teletype\n",
            "dpkg-preconfigure: unable to re-open stdin: \n",
            "Selecting previously unselected package flex.\n",
            "(Reading database ... 121019 files and directories currently installed.)\n",
            "Preparing to unpack .../flex_2.6.4-8build2_amd64.deb ...\n",
            "Unpacking flex (2.6.4-8build2) ...\n",
            "Selecting previously unselected package libfl2:amd64.\n",
            "Preparing to unpack .../libfl2_2.6.4-8build2_amd64.deb ...\n",
            "Unpacking libfl2:amd64 (2.6.4-8build2) ...\n",
            "Selecting previously unselected package libfl-dev:amd64.\n",
            "Preparing to unpack .../libfl-dev_2.6.4-8build2_amd64.deb ...\n",
            "Unpacking libfl-dev:amd64 (2.6.4-8build2) ...\n",
            "Setting up flex (2.6.4-8build2) ...\n",
            "Setting up libfl2:amd64 (2.6.4-8build2) ...\n",
            "Setting up libfl-dev:amd64 (2.6.4-8build2) ...\n",
            "Processing triggers for man-db (2.10.2-1) ...\n",
            "Processing triggers for libc-bin (2.35-0ubuntu3.4) ...\n",
            "/sbin/ldconfig.real: /usr/local/lib/libtbbmalloc_proxy.so.2 is not a symbolic link\n",
            "\n",
            "/sbin/ldconfig.real: /usr/local/lib/libtbbbind_2_0.so.3 is not a symbolic link\n",
            "\n",
            "/sbin/ldconfig.real: /usr/local/lib/libtbbbind_2_5.so.3 is not a symbolic link\n",
            "\n",
            "/sbin/ldconfig.real: /usr/local/lib/libtbbbind.so.3 is not a symbolic link\n",
            "\n",
            "/sbin/ldconfig.real: /usr/local/lib/libtbb.so.12 is not a symbolic link\n",
            "\n",
            "/sbin/ldconfig.real: /usr/local/lib/libtbbmalloc.so.2 is not a symbolic link\n",
            "\n"
          ]
        }
      ]
    },
    {
      "cell_type": "code",
      "source": [
        "!bison -d -Wcounterexamples parser.y"
      ],
      "metadata": {
        "id": "Zzqz1vGboYDR"
      },
      "execution_count": 17,
      "outputs": []
    },
    {
      "cell_type": "code",
      "source": [
        "!flex -o lex.yy.c agro.l"
      ],
      "metadata": {
        "id": "wTGCMus7lHUO"
      },
      "execution_count": 18,
      "outputs": []
    },
    {
      "cell_type": "code",
      "source": [
        "!gcc -o agro lex.yy.c -lfl"
      ],
      "metadata": {
        "id": "btycllzUmRUa"
      },
      "execution_count": 19,
      "outputs": []
    },
    {
      "cell_type": "code",
      "source": [
        "!./agro < agro.txt"
      ],
      "metadata": {
        "id": "yc-UXCsIvC37",
        "colab": {
          "base_uri": "https://localhost:8080/"
        },
        "outputId": "81b3db2a-2725-4c86-c205-c76f758f705a"
      },
      "execution_count": 21,
      "outputs": [
        {
          "output_type": "stream",
          "name": "stdout",
          "text": [
            "REGISTRAR\n",
            "IDENTIFICADOR: animal1\n",
            "GADO\n",
            "PONTO_E_VIRGULA\n",
            "PLANTAR\n",
            "IDENTIFICADOR: milho\n",
            "EM\n",
            "NUMERO: 01012023\n",
            "PONTO_E_VIRGULA\n",
            "SE\n",
            "ABRE_PARENTESES\n",
            "NUMERO: 1\n",
            "FECHA_PARENTESES\n",
            "ENTAO\n",
            "VACINAR\n",
            "IDENTIFICADOR: animal1\n",
            "EM\n",
            "NUMERO: 02022023\n",
            "PONTO_E_VIRGULA\n",
            "SENAO\n",
            "COLHER\n",
            "IDENTIFICADOR: milho\n",
            "PONTO_E_VIRGULA\n",
            "ENQUANTO\n",
            "ABRE_PARENTESES\n",
            "NUMERO: 1\n",
            "FECHA_PARENTESES\n",
            "COMECAR\n",
            "PLANTAR\n",
            "IDENTIFICADOR: trigo\n",
            "EM\n",
            "NUMERO: 03032023\n",
            "PONTO_E_VIRGULA\n",
            "TERMINAR\n"
          ]
        }
      ]
    },
    {
      "cell_type": "code",
      "source": [],
      "metadata": {
        "id": "1VBP-YMwtk9r"
      },
      "execution_count": null,
      "outputs": []
    }
  ]
}